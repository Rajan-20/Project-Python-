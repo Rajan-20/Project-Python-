{
 "cells": [
  {
   "cell_type": "markdown",
   "id": "3befe69e",
   "metadata": {},
   "source": [
    "# Web Scraping"
   ]
  },
  {
   "cell_type": "code",
   "execution_count": 1,
   "id": "8e5b64ec",
   "metadata": {},
   "outputs": [
    {
     "name": "stdout",
     "output_type": "stream",
     "text": [
      "json file:C:\\\\Users\\\\RajanSundaram\\\\Desktop\\\\Python Project\\\\bank_market_cap_1.json\n",
      "csv file:C:\\\\Users\\\\RajanSundaram\\\\Desktop\\\\Python Project\\\\exchange_rates.csv\n",
      "File C:\\\\Users\\\\RajanSundaram\\\\Desktop\\\\Python Project\\\\bank_market_cap_1.json does not exist\n",
      "[Errno 2] No such file or directory: 'C:\\\\\\\\Users\\\\\\\\RajanSundaram\\\\\\\\Desktop\\\\\\\\Python Project\\\\\\\\exchange_rates.csv'\n"
     ]
    },
    {
     "ename": "TypeError",
     "evalue": "'NoneType' object is not subscriptable",
     "output_type": "error",
     "traceback": [
      "\u001b[1;31m---------------------------------------------------------------------------\u001b[0m",
      "\u001b[1;31mTypeError\u001b[0m                                 Traceback (most recent call last)",
      "Cell \u001b[1;32mIn [1], line 39\u001b[0m\n\u001b[0;32m     37\u001b[0m extract_val \u001b[38;5;241m=\u001b[39m extract_json(json_file)\n\u001b[0;32m     38\u001b[0m extract_csv(csv_file)\n\u001b[1;32m---> 39\u001b[0m final_output \u001b[38;5;241m=\u001b[39m \u001b[43mtransform\u001b[49m\u001b[43m(\u001b[49m\u001b[43mextract_val\u001b[49m\u001b[43m)\u001b[49m\n\u001b[0;32m     40\u001b[0m load(final_output)\n",
      "Cell \u001b[1;32mIn [1], line 25\u001b[0m, in \u001b[0;36mtransform\u001b[1;34m(json_df)\u001b[0m\n\u001b[0;32m     23\u001b[0m \u001b[38;5;28;01mdef\u001b[39;00m \u001b[38;5;21mtransform\u001b[39m(json_df):\n\u001b[0;32m     24\u001b[0m     \u001b[38;5;66;03m# 1USD = 0.843964\u001b[39;00m\n\u001b[1;32m---> 25\u001b[0m     json_df[\u001b[38;5;124m'\u001b[39m\u001b[38;5;124mMarket Cap (US$ Billion)\u001b[39m\u001b[38;5;124m'\u001b[39m] \u001b[38;5;241m=\u001b[39m \u001b[38;5;28mround\u001b[39m(\u001b[43mjson_df\u001b[49m\u001b[43m[\u001b[49m\u001b[38;5;124;43m'\u001b[39;49m\u001b[38;5;124;43mMarket Cap (US$ Billion)\u001b[39;49m\u001b[38;5;124;43m'\u001b[39;49m\u001b[43m]\u001b[49m \u001b[38;5;241m*\u001b[39m \u001b[38;5;241m0.843964\u001b[39m, \u001b[38;5;241m3\u001b[39m)\n\u001b[0;32m     26\u001b[0m     json_df \u001b[38;5;241m=\u001b[39m json_df\u001b[38;5;241m.\u001b[39mrename(columns\u001b[38;5;241m=\u001b[39m{\u001b[38;5;124m'\u001b[39m\u001b[38;5;124mMarket Cap (US$ Billion)\u001b[39m\u001b[38;5;124m'\u001b[39m: \u001b[38;5;124m'\u001b[39m\u001b[38;5;124mMarket Cap (GBP$ Billion)\u001b[39m\u001b[38;5;124m'\u001b[39m})\n\u001b[0;32m     27\u001b[0m     \u001b[38;5;28;01mreturn\u001b[39;00m json_df\n",
      "\u001b[1;31mTypeError\u001b[0m: 'NoneType' object is not subscriptable"
     ]
    }
   ],
   "source": [
    "import pandas as pd\n",
    "\n",
    "\n",
    "def extract_json(file_json):\n",
    "    try:\n",
    "        json_df = pd.read_json(file_json) #C:\\\\Users\\\\RajanSundaram\\\\Desktop\\\\Python Project\\\\bank_market_cap_1.json\n",
    "        return json_df\n",
    "    except Exception as e:\n",
    "        print(e)\n",
    "\n",
    "\n",
    "def extract_csv(input_file):\n",
    "    try:\n",
    "        csv_df = pd.read_csv(input_file) #C:\\\\Users\\\\RajanSundaram\\\\Desktop\\\\Python Project\\\\exchange_rates.csv\n",
    "        csv_df = csv_df.rename(columns={'Unnamed: 0': 'Currency'})\n",
    "        csv_df = csv_df.set_index('Currency')\n",
    "        exchange_rate = csv_df.loc['GBP']\n",
    "        print(exchange_rate)\n",
    "    except Exception as e:\n",
    "        print(e)\n",
    "\n",
    "\n",
    "def transform(json_df):\n",
    "    # 1USD = 0.843964\n",
    "    json_df['Market Cap (US$ Billion)'] = round(json_df['Market Cap (US$ Billion)'] * 0.843964, 3)\n",
    "    json_df = json_df.rename(columns={'Market Cap (US$ Billion)': 'Market Cap (GBP$ Billion)'})\n",
    "    return json_df\n",
    "\n",
    "\n",
    "def load(output):\n",
    "    output.to_csv('bank_market_cap_gbp.csv')\n",
    "\n",
    "\n",
    "if __name__ == '__main__':\n",
    "    json_file = input('json file:')\n",
    "    csv_file = input('csv file:')\n",
    "    extract_val = extract_json(json_file)\n",
    "    extract_csv(csv_file)\n",
    "    final_output = transform(extract_val)\n",
    "    load(final_output)"
   ]
  },
  {
   "cell_type": "markdown",
   "id": "e18e6a9b",
   "metadata": {},
   "source": [
    "# API EXTRACTION"
   ]
  },
  {
   "cell_type": "code",
   "execution_count": null,
   "id": "ae2deb7e",
   "metadata": {},
   "outputs": [],
   "source": [
    "# import the necessary libraries\n",
    "\n",
    "import requests\n",
    "import pandas as pd\n",
    "\n",
    "\n",
    "def extract_api(key):\n",
    "    try:\n",
    "        url = 'https://api.apilayer.com/exchangerates_data/latest?base=EUR&apikey={}' #H38Inn1H92984fNKc9WmC19tX7OQ7KtY\n",
    "        res = requests.get(url.format(key))\n",
    "        data = res.json()\n",
    "        print('The Indian Currency Value(INR) is: ', data['rates']['INR'])\n",
    "        currency = data['rates'].keys()\n",
    "        rates = data['rates'].values()\n",
    "        df = pd.DataFrame(data=data['rates'].values(), index=currency, columns=['Rates'])\n",
    "        print('The total row count is :', df.count())\n",
    "        df.to_csv('exchange_rates_1.csv', index_label='Currency')\n",
    "        print('The file is created...')\n",
    "    except Exception as e:\n",
    "        print(e)\n",
    "\n",
    "\n",
    "if __name__ == '__main__':\n",
    "    api_key = input('Enter the api_key:')\n",
    "    extract_api(api_key)"
   ]
  },
  {
   "cell_type": "markdown",
   "id": "0e1216ff",
   "metadata": {},
   "source": [
    "# ETL"
   ]
  },
  {
   "cell_type": "code",
   "execution_count": null,
   "id": "09248ba0",
   "metadata": {},
   "outputs": [],
   "source": [
    "import pandas as pd\n",
    "\n",
    "\n",
    "def extract_json(file_json):\n",
    "    try:\n",
    "        json_df = pd.read_json(file_json) #C:\\\\Users\\\\RajanSundaram\\\\Desktop\\\\Python Project\\\\bank_market_cap_1.json\n",
    "        return json_df\n",
    "    except Exception as e:\n",
    "        print(e)\n",
    "\n",
    "\n",
    "def extract_csv(input_file):\n",
    "    try:\n",
    "        csv_df = pd.read_csv(input_file) #C:\\\\Users\\\\RajanSundaram\\\\Desktop\\\\Python Project\\\\exchange_rates.csv\n",
    "        csv_df = csv_df.rename(columns={'Unnamed: 0': 'Currency'})\n",
    "        csv_df = csv_df.set_index('Currency')\n",
    "        exchange_rate = csv_df.loc['GBP']\n",
    "        print(exchange_rate)\n",
    "    except Exception as e:\n",
    "        print(e)\n",
    "\n",
    "\n",
    "def transform(json_df):\n",
    "    # 1USD = 0.843964\n",
    "    json_df['Market Cap (US$ Billion)'] = round(json_df['Market Cap (US$ Billion)'] * 0.843964, 3)\n",
    "    json_df = json_df.rename(columns={'Market Cap (US$ Billion)': 'Market Cap (GBP$ Billion)'})\n",
    "    return json_df\n",
    "\n",
    "\n",
    "def load(output):\n",
    "    output.to_csv('bank_market_cap_gbp.csv')\n",
    "\n",
    "\n",
    "if __name__ == '__main__':\n",
    "    json_file = input('json file:')\n",
    "    csv_file = input('csv file:')\n",
    "    extract_val = extract_json(json_file)\n",
    "    extract_csv(csv_file)\n",
    "    final_output = transform(extract_val)\n",
    "    load(final_output)"
   ]
  }
 ],
 "metadata": {
  "kernelspec": {
   "display_name": "Python 3 (ipykernel)",
   "language": "python",
   "name": "python3"
  },
  "language_info": {
   "codemirror_mode": {
    "name": "ipython",
    "version": 3
   },
   "file_extension": ".py",
   "mimetype": "text/x-python",
   "name": "python",
   "nbconvert_exporter": "python",
   "pygments_lexer": "ipython3",
   "version": "3.10.8"
  }
 },
 "nbformat": 4,
 "nbformat_minor": 5
}
